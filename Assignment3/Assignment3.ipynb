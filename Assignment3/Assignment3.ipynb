{
 "cells": [
  {
   "cell_type": "markdown",
   "id": "92177c82-187f-4e4f-a0ef-0bbb12e52ad6",
   "metadata": {},
   "source": [
    "Construct FP-Tree using suitable programing language for a perticular dataset for association rule mining.Explain all the steps of tree construction and draw the resulting tree(mininum support count threshold for association rule"
   ]
  },
  {
   "cell_type": "markdown",
   "id": "279bf899-94ad-4c46-9b5f-11b47eccfbb9",
   "metadata": {},
   "source": [
    "2) based on this tree answer the questions\n",
    "\n",
    "- Find maximun frquent atom set\n",
    "- how many treanscation does it contain\n",
    "-  Stimulate frquent patterns bases on the FB tree construct\n",
    "- Give comprative analysis of this process with appropriate algo."
   ]
  },
  {
   "cell_type": "markdown",
   "id": "e26b033b-6712-44fb-a694-d455b3b6ddca",
   "metadata": {},
   "source": [
    "## Dataset"
   ]
  },
  {
   "cell_type": "code",
   "execution_count": null,
   "id": "1cc7355a-df01-4757-8d3f-36f54ea41843",
   "metadata": {},
   "outputs": [],
   "source": [
    "# Stationery shop dataset\n",
    "dataset = [\n",
    "    ['Pen', 'Notebook', 'Eraser', 'Sharpener'],\n",
    "    ['Pencil', 'Notebook', 'Ruler', 'Marker'],\n",
    "    ['Pen', 'Highlighter', 'Notebook'],\n",
    "    ['Stapler', 'Paper Clips', 'Glue', 'Notebook'],\n",
    "    ['Pen', 'Ruler', 'Sharpener', 'Notebook', 'Marker'],\n",
    "    ['Eraser', 'Sticky Notes', 'Glue'],\n",
    "    ['Pen', 'Notebook', 'Marker', 'Stapler'],\n",
    "    ['Pencil', 'Eraser', 'Sharpener', 'Glue'],\n",
    "    ['Highlighter', 'Notebook', 'Paper Clips'],\n",
    "    ['Pen', 'Notebook', 'Pencil', 'Eraser']\n",
    "]"
   ]
  },
  {
   "cell_type": "markdown",
   "id": "4d838175-22e5-494d-a867-8bb2cb4a3760",
   "metadata": {},
   "source": [
    "## Calculate the support count for each items"
   ]
  },
  {
   "cell_type": "code",
   "execution_count": 2,
   "id": "2ea9cb68-69bd-4d69-a8c2-3aee0ffeb042",
   "metadata": {},
   "outputs": [
    {
     "name": "stdout",
     "output_type": "stream",
     "text": [
      "Item Support Count: defaultdict(<class 'int'>, {'Pen': 5, 'Notebook': 8, 'Eraser': 4, 'Sharpener': 3, 'Pencil': 3, 'Ruler': 2, 'Marker': 3, 'Highlighter': 2, 'Stapler': 2, 'Paper Clips': 2, 'Glue': 3, 'Sticky Notes': 1})\n"
     ]
    }
   ],
   "source": [
    "from collections import defaultdict\n",
    "\n",
    "# Calculate item support count\n",
    "def calculate_support(dataset):\n",
    "    support = defaultdict(int)\n",
    "    for transaction in dataset:\n",
    "        for item in transaction:\n",
    "            support[item] += 1\n",
    "    return support\n",
    "\n",
    "# Compute support count\n",
    "support_count = calculate_support(dataset)\n",
    "print(\"Item Support Count:\", support_count)\n"
   ]
  },
  {
   "cell_type": "markdown",
   "id": "2dbc0e4a-c50a-4507-ba33-bf4548ddd1a7",
   "metadata": {},
   "source": [
    "## Set minimum Support threshold"
   ]
  },
  {
   "cell_type": "code",
   "execution_count": 3,
   "id": "69a41a69-ec7c-4948-82e0-6afe19efc809",
   "metadata": {},
   "outputs": [
    {
     "name": "stdout",
     "output_type": "stream",
     "text": [
      "Filtered Items: {'Pen': 5, 'Notebook': 8, 'Eraser': 4, 'Sharpener': 3, 'Pencil': 3, 'Ruler': 2, 'Marker': 3, 'Highlighter': 2, 'Stapler': 2, 'Paper Clips': 2, 'Glue': 3}\n"
     ]
    }
   ],
   "source": [
    "# Set minimum support threshold\n",
    "min_support = 2\n",
    "\n",
    "# Remove items below min support\n",
    "filtered_items = {item: count for item, count in support_count.items() if count >= min_support}\n",
    "print(\"Filtered Items:\", filtered_items)\n"
   ]
  },
  {
   "cell_type": "markdown",
   "id": "cd21c75b-e4d7-4995-a009-f6192fc96126",
   "metadata": {},
   "source": [
    "## Sort items based on support count (Descending order)"
   ]
  },
  {
   "cell_type": "code",
   "execution_count": 4,
   "id": "a7e54e4c-e418-4d1e-971b-ae3670674da8",
   "metadata": {},
   "outputs": [
    {
     "name": "stdout",
     "output_type": "stream",
     "text": [
      "Sorted Items by Support: {'Notebook': 8, 'Pen': 5, 'Eraser': 4, 'Sharpener': 3, 'Pencil': 3, 'Marker': 3, 'Glue': 3, 'Ruler': 2, 'Highlighter': 2, 'Stapler': 2, 'Paper Clips': 2}\n"
     ]
    }
   ],
   "source": [
    "# Sort items based on support count (Descending order)\n",
    "sorted_items = dict(sorted(filtered_items.items(), key=lambda x: x[1], reverse=True))\n",
    "print(\"Sorted Items by Support:\", sorted_items)\n"
   ]
  },
  {
   "cell_type": "code",
   "execution_count": 5,
   "id": "95a43971-b83c-4c60-8328-17ec3557e327",
   "metadata": {},
   "outputs": [
    {
     "name": "stdout",
     "output_type": "stream",
     "text": [
      "Processed Transactions: [['Notebook', 'Pen', 'Eraser', 'Sharpener'], ['Notebook', 'Pencil', 'Marker', 'Ruler'], ['Notebook', 'Pen', 'Highlighter'], ['Notebook', 'Glue', 'Stapler', 'Paper Clips'], ['Notebook', 'Pen', 'Sharpener', 'Marker', 'Ruler'], ['Eraser', 'Glue'], ['Notebook', 'Pen', 'Marker', 'Stapler'], ['Eraser', 'Pencil', 'Sharpener', 'Glue'], ['Notebook', 'Highlighter', 'Paper Clips'], ['Notebook', 'Pen', 'Eraser', 'Pencil']]\n"
     ]
    }
   ],
   "source": [
    "# Rearrange dataset based on sorted order\n",
    "def rearrange_transactions(dataset, sorted_items):\n",
    "    new_dataset = []\n",
    "    for transaction in dataset:\n",
    "        new_transaction = [item for item in transaction if item in sorted_items]\n",
    "        new_transaction.sort(key=lambda item: sorted_items[item], reverse=True)  # Sort items in transaction\n",
    "        new_dataset.append(new_transaction)\n",
    "    return new_dataset\n",
    "\n",
    "# Get the rearranged dataset\n",
    "processed_dataset = rearrange_transactions(dataset, sorted_items)\n",
    "print(\"Processed Transactions:\", processed_dataset)\n"
   ]
  },
  {
   "cell_type": "code",
   "execution_count": 6,
   "id": "b3d914b8-add4-485a-a448-d2d66d0a22ee",
   "metadata": {},
   "outputs": [
    {
     "name": "stdout",
     "output_type": "stream",
     "text": [
      "|  -Notebook (8)\n",
      "|  |  -Pen (5)\n",
      "|  |  |  -Eraser (2)\n",
      "|  |  |  |  -Sharpener (1)\n",
      "|  |  |  |  -Pencil (1)\n",
      "|  |  |  -Highlighter (1)\n",
      "|  |  |  -Sharpener (1)\n",
      "|  |  |  |  -Marker (1)\n",
      "|  |  |  |  |  -Ruler (1)\n",
      "|  |  |  -Marker (1)\n",
      "|  |  |  |  -Stapler (1)\n",
      "|  |  -Pencil (1)\n",
      "|  |  |  -Marker (1)\n",
      "|  |  |  |  -Ruler (1)\n",
      "|  |  -Glue (1)\n",
      "|  |  |  -Stapler (1)\n",
      "|  |  |  |  -Paper Clips (1)\n",
      "|  |  -Highlighter (1)\n",
      "|  |  |  -Paper Clips (1)\n",
      "|  -Eraser (2)\n",
      "|  |  -Glue (1)\n",
      "|  |  -Pencil (1)\n",
      "|  |  |  -Sharpener (1)\n",
      "|  |  |  |  -Glue (1)\n"
     ]
    }
   ],
   "source": [
    "# FP-Tree Node Class\n",
    "class FPTreeNode:\n",
    "    def __init__(self, item, count):\n",
    "        self.item = item\n",
    "        self.count = count\n",
    "        self.children = {}\n",
    "\n",
    "# Recursive function to construct the tree\n",
    "def create_tree(root, transactions, i, j):\n",
    "    if j >= len(transactions[i]):\n",
    "        return\n",
    "    item = transactions[i][j]\n",
    "    if item in root.children:\n",
    "        root.children[item].count += 1\n",
    "    else:\n",
    "        root.children[item] = FPTreeNode(item, 1)\n",
    "    \n",
    "    create_tree(root.children[item], transactions, i, j + 1)\n",
    "\n",
    "# Build the FP-Tree\n",
    "root = FPTreeNode(None, 0)\n",
    "for i in range(len(processed_dataset)):\n",
    "    create_tree(root, processed_dataset, i, 0)\n",
    "\n",
    "# Print the FP-Tree\n",
    "def print_tree(node, indent=0):\n",
    "    if node.item is not None:\n",
    "        print(\"|  \" * indent + f\"-{node.item} ({node.count})\")\n",
    "    for child in node.children.values():\n",
    "        print_tree(child, indent + 1)\n",
    "\n",
    "print_tree(root)\n"
   ]
  },
  {
   "cell_type": "code",
   "execution_count": null,
   "id": "19fab57f-5023-45fe-a03a-86a4d23f0250",
   "metadata": {},
   "outputs": [],
   "source": []
  },
  {
   "cell_type": "code",
   "execution_count": null,
   "id": "0df78dab-841c-4268-832e-e56302951c60",
   "metadata": {},
   "outputs": [],
   "source": []
  }
 ],
 "metadata": {
  "kernelspec": {
   "display_name": "Python 3 (ipykernel)",
   "language": "python",
   "name": "python3"
  },
  "language_info": {
   "codemirror_mode": {
    "name": "ipython",
    "version": 3
   },
   "file_extension": ".py",
   "mimetype": "text/x-python",
   "name": "python",
   "nbconvert_exporter": "python",
   "pygments_lexer": "ipython3",
   "version": "3.11.4"
  }
 },
 "nbformat": 4,
 "nbformat_minor": 5
}
